{
  "nbformat": 4,
  "nbformat_minor": 0,
  "metadata": {
    "colab": {
      "provenance": []
    },
    "kernelspec": {
      "name": "python3",
      "display_name": "Python 3"
    },
    "language_info": {
      "name": "python"
    }
  },
  "cells": [
    {
      "cell_type": "markdown",
      "source": [
        "Soal, Seorang siswa ingin mengetahui apakah nilai ujiannya memenuhi syarat lulus berdasarkan rata-rata nilai dari 3 mata pelajaran."
      ],
      "metadata": {
        "id": "ya169ezSpW4C"
      }
    },
    {
      "cell_type": "code",
      "execution_count": null,
      "metadata": {
        "id": "7Bkr7lUskc2A"
      },
      "outputs": [],
      "source": [
        "# Program untuk menentukan kelulusan siswa berdasarkan rata-rata nilai 3 mata pelajaran\n",
        "\n",
        "# Input nilai tiga mata pelajaran dari siswa\n",
        "nilai1 = float(input(\"Masukkan nilai mata pelajaran 1: \"))\n",
        "nilai2 = float(input(\"Masukkan nilai mata pelajaran 2: \"))\n",
        "nilai3 = float(input(\"Masukkan nilai mata pelajaran 3: \"))\n",
        "\n",
        "# Hitung rata-rata nilai\n",
        "rata_rata = (nilai1 + nilai2 + nilai3) / 3\n",
        "\n",
        "# Syarat kelulusan, misalnya rata-rata minimal 60\n",
        "batas_lulus = 60\n",
        "\n",
        "# Cek apakah siswa lulus atau tidak\n",
        "if rata_rata >= batas_lulus:\n",
        "    print(f\"Siswa lulus dengan rata-rata nilai {rata_rata:.2f}\")\n",
        "else:\n",
        "    print(f\"Siswa belum lulus. Rata-rata nilai {rata_rata:.2f}\")\n",
        "\n"
      ]
    }
  ]
}