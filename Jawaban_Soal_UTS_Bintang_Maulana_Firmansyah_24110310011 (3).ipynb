{
  "nbformat": 4,
  "nbformat_minor": 0,
  "metadata": {
    "colab": {
      "provenance": []
    },
    "kernelspec": {
      "name": "python3",
      "display_name": "Python 3"
    },
    "language_info": {
      "name": "python"
    }
  },
  "cells": [
    {
      "cell_type": "markdown",
      "source": [
        "Soal, Anda diminta membuat fungsi untuk menghitung faktorial dari suatu bilangan menggunakan metode rekursif."
      ],
      "metadata": {
        "id": "kbC106Twmo2U"
      }
    },
    {
      "cell_type": "code",
      "execution_count": 1,
      "metadata": {
        "id": "YgYk46BIkXuB"
      },
      "outputs": [],
      "source": [
        "def faktorial(n):\n",
        "    if n == 0 or n == 1:  # Basis kasus\n",
        "        return 1\n",
        "    else:\n",
        "        return n * faktorial(n - 1)  # Rekursi\n"
      ]
    }
  ]
}