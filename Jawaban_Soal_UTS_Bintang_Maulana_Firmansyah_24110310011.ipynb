{
  "nbformat": 4,
  "nbformat_minor": 0,
  "metadata": {
    "colab": {
      "provenance": []
    },
    "kernelspec": {
      "name": "python3",
      "display_name": "Python 3"
    },
    "language_info": {
      "name": "python"
    }
  },
  "cells": [
    {
      "cell_type": "code",
      "execution_count": 1,
      "metadata": {
        "colab": {
          "base_uri": "https://localhost:8080/"
        },
        "id": "8TAe_14UbfXY",
        "outputId": "c716c26d-1bcd-47db-9bab-ba013d58b841"
      },
      "outputs": [
        {
          "output_type": "stream",
          "name": "stdout",
          "text": [
            "Masukkan harga barang 1: 20000\n",
            "Masukkan harga barang 2: 3500\n",
            "Masukkan harga barang 3: 4000\n",
            "Total pembayaran adalah: 27500.0\n"
          ]
        }
      ],
      "source": [
        "# Soal, Seorang kasir toko ingin sistem sederhana untuk menghitung total harga pembelian 3 barang dan menampilkan totalnya\n",
        "\n",
        "\n",
        "# Langkah 1: Membaca harga barang\n",
        "harga_barang1 = float(input(\"Masukkan harga barang 1: \"))\n",
        "harga_barang2 = float(input(\"Masukkan harga barang 2: \"))\n",
        "harga_barang3 = float(input(\"Masukkan harga barang 3: \"))\n",
        "\n",
        "# Langkah 2: Menghitung total harga\n",
        "total_harga = harga_barang1 + harga_barang2 + harga_barang3\n",
        "\n",
        "# Langkah 3: Menampilkan total pembayaran\n",
        "print(f\"Total pembayaran adalah: {total_harga}\")\n"
      ]
    }
  ]
}