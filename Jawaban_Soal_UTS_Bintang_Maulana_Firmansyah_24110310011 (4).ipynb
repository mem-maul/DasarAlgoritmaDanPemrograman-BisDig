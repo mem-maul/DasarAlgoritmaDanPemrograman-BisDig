{
  "nbformat": 4,
  "nbformat_minor": 0,
  "metadata": {
    "colab": {
      "provenance": []
    },
    "kernelspec": {
      "name": "python3",
      "display_name": "Python 3"
    },
    "language_info": {
      "name": "python"
    }
  },
  "cells": [
    {
      "cell_type": "markdown",
      "source": [
        "Soal, Seorang guru ingin membuat sistem input nilai 5 siswa dan mencari nilai tertinggi."
      ],
      "metadata": {
        "id": "ykWi49NfoQnB"
      }
    },
    {
      "cell_type": "code",
      "execution_count": null,
      "metadata": {
        "id": "GxeBd31TkaST"
      },
      "outputs": [],
      "source": [
        "# Inisialisasi array untuk menyimpan nilai siswa\n",
        "nilai_siswa = []\n",
        "\n",
        "# Menginput nilai untuk 5 siswa\n",
        "for i in range(5):\n",
        "    nilai = float(input(f\"Masukkan nilai siswa ke-{i+1}: \"))\n",
        "    nilai_siswa.append(nilai)\n",
        "\n",
        "# Mencari nilai tertinggi\n",
        "nilai_tertinggi = max(nilai_siswa)\n",
        "\n",
        "# Menampilkan hasil\n",
        "print(f\"Nilai tertinggi di antara 5 siswa adalah: {nilai_tertinggi}\")\n"
      ]
    }
  ]
}