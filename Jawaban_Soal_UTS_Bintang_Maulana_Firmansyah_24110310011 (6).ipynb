{
  "nbformat": 4,
  "nbformat_minor": 0,
  "metadata": {
    "colab": {
      "provenance": []
    },
    "kernelspec": {
      "name": "python3",
      "display_name": "Python 3"
    },
    "language_info": {
      "name": "python"
    }
  },
  "cells": [
    {
      "cell_type": "markdown",
      "source": [
        "Soal, Dalam sistem e-commerce, pelanggan mendapatkan diskon 10% jika belanja di atas Rp500.000."
      ],
      "metadata": {
        "id": "2Zdg3i7Nk5yl"
      }
    },
    {
      "cell_type": "code",
      "execution_count": 1,
      "metadata": {
        "colab": {
          "base_uri": "https://localhost:8080/"
        },
        "id": "6gKKrmOKkUnL",
        "outputId": "7d0c3dee-69b9-4c03-9322-dc84f3343076"
      },
      "outputs": [
        {
          "output_type": "stream",
          "name": "stdout",
          "text": [
            "Masukkan total belanja: Rp100000\n",
            "Total bayar tanpa diskon: Rp100000.00\n"
          ]
        }
      ],
      "source": [
        "# Input total belanja\n",
        "total_belanja = float(input(\"Masukkan total belanja: Rp\"))\n",
        "\n",
        "# Inisialisasi diskon\n",
        "diskon = 0.1  # 10%\n",
        "\n",
        "# Cek apakah total belanja memenuhi syarat untuk diskon\n",
        "if total_belanja > 500000:\n",
        "    total_bayar = total_belanja - (total_belanja * diskon)\n",
        "    print(f\"Anda mendapatkan diskon 10%. Total bayar setelah diskon: Rp{total_bayar:.2f}\")\n",
        "else:\n",
        "    total_bayar = total_belanja\n",
        "    print(f\"Total bayar tanpa diskon: Rp{total_bayar:.2f}\")\n"
      ]
    }
  ]
}